{
 "cells": [
  {
   "cell_type": "markdown",
   "id": "f1c595c6",
   "metadata": {},
   "source": [
    "## Data Normalization :- \n",
    "\n",
    "### Data normalization is the organization of data to appear similar across all records and fields , It increases the cohesion of entry types leading to cleansing, lead generation, segmentation, and higher quality data.\n",
    "\n",
    "#### Simply put, this process includes eliminating unstructured data and redundancy (duplicates) in order to ensure logical data storage. When data normalization is done correctly, you will end up with standardized information entry.\n"
   ]
  },
  {
   "cell_type": "markdown",
   "id": "43bb0ecd",
   "metadata": {},
   "source": [
    "###  <font color = purple > Let's start with the first method </font>\n",
    "          *The min-max feature scaling*\n",
    " \n",
    "<font color = purple > **How it works ?**   \n",
    "#### The min-max approach (often called normalization) rescales the feature to a hard and fast range of [0,1] by subtracting the minimum value of the feature then dividing by the range."
   ]
  },
  {
   "cell_type": "code",
   "execution_count": 1,
   "id": "87798aee",
   "metadata": {},
   "outputs": [],
   "source": [
    "import pandas as pd\n",
    "import numpy as np \n",
    "from sklearn.preprocessing import MinMaxScaler"
   ]
  },
  {
   "cell_type": "code",
   "execution_count": null,
   "id": "f6f9babf",
   "metadata": {},
   "outputs": [],
   "source": [
    "df = pd.read_csv('Downloads\\heart.csv')\n",
    "x = df.head(10)\n",
    "x"
   ]
  },
  {
   "cell_type": "code",
   "execution_count": null,
   "id": "23f6fded",
   "metadata": {},
   "outputs": [
    {
     "data": {
      "text/plain": [
       "<AxesSubplot:>"
      ]
     },
     "execution_count": 4,
     "metadata": {},
     "output_type": "execute_result"
    }
   ],
   "source": [
    "import matplotlib.pyplot as plt\n",
    "df.plot(kind = 'bar')"
   ]
  },
  {
   "cell_type": "code",
   "execution_count": 6,
   "id": "9b6a6b61",
   "metadata": {},
   "outputs": [
    {
     "name": "stdout",
     "output_type": "stream",
     "text": [
      "<class 'pandas.core.frame.DataFrame'>\n",
      "RangeIndex: 918 entries, 0 to 917\n",
      "Data columns (total 12 columns):\n",
      " #   Column          Non-Null Count  Dtype  \n",
      "---  ------          --------------  -----  \n",
      " 0   Age             918 non-null    int64  \n",
      " 1   Sex             918 non-null    object \n",
      " 2   ChestPainType   918 non-null    object \n",
      " 3   RestingBP       918 non-null    int64  \n",
      " 4   Cholesterol     918 non-null    int64  \n",
      " 5   FastingBS       918 non-null    int64  \n",
      " 6   RestingECG      918 non-null    object \n",
      " 7   MaxHR           918 non-null    int64  \n",
      " 8   ExerciseAngina  918 non-null    object \n",
      " 9   Oldpeak         918 non-null    float64\n",
      " 10  ST_Slope        918 non-null    object \n",
      " 11  HeartDisease    918 non-null    int64  \n",
      "dtypes: float64(1), int64(6), object(5)\n",
      "memory usage: 86.2+ KB\n"
     ]
    }
   ],
   "source": [
    "df.info()  # searching for null values and getting the DataFrame of each column"
   ]
  },
  {
   "cell_type": "code",
   "execution_count": 17,
   "id": "9a7069cb",
   "metadata": {},
   "outputs": [
    {
     "data": {
      "text/plain": [
       "array([[0.24489796, 0.29545455, 0.47927032, ..., 0.78873239, 0.        ,\n",
       "        0.7       ],\n",
       "       [0.42857143, 0.40909091, 0.29850746, ..., 0.67605634, 0.        ,\n",
       "        0.8       ],\n",
       "       [0.18367347, 0.29545455, 0.46932007, ..., 0.26760563, 0.        ,\n",
       "        0.65      ],\n",
       "       ...,\n",
       "       [0.59183673, 0.43181818, 0.2172471 , ..., 0.38732394, 0.        ,\n",
       "        0.65      ],\n",
       "       [0.59183673, 0.29545455, 0.39137645, ..., 0.8028169 , 0.        ,\n",
       "        0.65      ],\n",
       "       [0.20408163, 0.29545455, 0.29021559, ..., 0.79577465, 0.        ,\n",
       "        0.69      ]])"
      ]
     },
     "execution_count": 17,
     "metadata": {},
     "output_type": "execute_result"
    }
   ],
   "source": [
    "scaler = MinMaxScaler()\n",
    "x = scaler.fit_transform (df[['Age','Oldpeak','Cholesterol','HeartDisease','MaxHR','FastingBS','RestingBP']])\n",
    "x"
   ]
  },
  {
   "cell_type": "code",
   "execution_count": 19,
   "id": "960e1d55",
   "metadata": {},
   "outputs": [
    {
     "data": {
      "text/html": [
       "<div>\n",
       "<style scoped>\n",
       "    .dataframe tbody tr th:only-of-type {\n",
       "        vertical-align: middle;\n",
       "    }\n",
       "\n",
       "    .dataframe tbody tr th {\n",
       "        vertical-align: top;\n",
       "    }\n",
       "\n",
       "    .dataframe thead tr th {\n",
       "        text-align: left;\n",
       "    }\n",
       "</style>\n",
       "<table border=\"1\" class=\"dataframe\">\n",
       "  <thead>\n",
       "    <tr>\n",
       "      <th></th>\n",
       "      <th>Age</th>\n",
       "      <th>Oldpeak</th>\n",
       "      <th>Cholesterol</th>\n",
       "      <th>HeartDisease</th>\n",
       "      <th>MaxHR</th>\n",
       "      <th>FastingBS</th>\n",
       "      <th>RestingBP</th>\n",
       "    </tr>\n",
       "  </thead>\n",
       "  <tbody>\n",
       "    <tr>\n",
       "      <th>0</th>\n",
       "      <td>0.244898</td>\n",
       "      <td>0.295455</td>\n",
       "      <td>0.479270</td>\n",
       "      <td>0.0</td>\n",
       "      <td>0.788732</td>\n",
       "      <td>0.0</td>\n",
       "      <td>0.70</td>\n",
       "    </tr>\n",
       "    <tr>\n",
       "      <th>1</th>\n",
       "      <td>0.428571</td>\n",
       "      <td>0.409091</td>\n",
       "      <td>0.298507</td>\n",
       "      <td>1.0</td>\n",
       "      <td>0.676056</td>\n",
       "      <td>0.0</td>\n",
       "      <td>0.80</td>\n",
       "    </tr>\n",
       "    <tr>\n",
       "      <th>2</th>\n",
       "      <td>0.183673</td>\n",
       "      <td>0.295455</td>\n",
       "      <td>0.469320</td>\n",
       "      <td>0.0</td>\n",
       "      <td>0.267606</td>\n",
       "      <td>0.0</td>\n",
       "      <td>0.65</td>\n",
       "    </tr>\n",
       "    <tr>\n",
       "      <th>3</th>\n",
       "      <td>0.408163</td>\n",
       "      <td>0.465909</td>\n",
       "      <td>0.354892</td>\n",
       "      <td>1.0</td>\n",
       "      <td>0.338028</td>\n",
       "      <td>0.0</td>\n",
       "      <td>0.69</td>\n",
       "    </tr>\n",
       "    <tr>\n",
       "      <th>4</th>\n",
       "      <td>0.530612</td>\n",
       "      <td>0.295455</td>\n",
       "      <td>0.323383</td>\n",
       "      <td>0.0</td>\n",
       "      <td>0.436620</td>\n",
       "      <td>0.0</td>\n",
       "      <td>0.75</td>\n",
       "    </tr>\n",
       "  </tbody>\n",
       "</table>\n",
       "</div>"
      ],
      "text/plain": [
       "        Age   Oldpeak Cholesterol HeartDisease     MaxHR FastingBS RestingBP\n",
       "0  0.244898  0.295455    0.479270          0.0  0.788732       0.0      0.70\n",
       "1  0.428571  0.409091    0.298507          1.0  0.676056       0.0      0.80\n",
       "2  0.183673  0.295455    0.469320          0.0  0.267606       0.0      0.65\n",
       "3  0.408163  0.465909    0.354892          1.0  0.338028       0.0      0.69\n",
       "4  0.530612  0.295455    0.323383          0.0  0.436620       0.0      0.75"
      ]
     },
     "execution_count": 19,
     "metadata": {},
     "output_type": "execute_result"
    }
   ],
   "source": [
    "normalized_df = pd.DataFrame(x , columns = [['Age','Oldpeak','Cholesterol','HeartDisease','MaxHR','FastingBS','RestingBP']])\n",
    "normalized_df.head()"
   ]
  },
  {
   "cell_type": "code",
   "execution_count": 28,
   "id": "2cf46441",
   "metadata": {},
   "outputs": [
    {
     "data": {
      "text/plain": [
       "<AxesSubplot:>"
      ]
     },
     "execution_count": 28,
     "metadata": {},
     "output_type": "execute_result"
    },
    {
     "data": {
      "image/png": "[encoded data removed]",
      "text/plain": [
       "<Figure size 432x288 with 1 Axes>"
      ]
     },
     "metadata": {
      "needs_background": "light"
     },
     "output_type": "display_data"
    }
   ],
   "source": [
    "import matplotlib.pyplot as plt\n",
    "normalized_df.plot(kind = 'bar')\n"
   ]
  },
  {
   "cell_type": "markdown",
   "id": "764b7f86",
   "metadata": {},
   "source": [
    "###  <font color = purple > Let's get into the second one </font>\n",
    "   **The z-score method**"
   ]
  },
  {
   "cell_type": "markdown",
   "id": "8771f9ad",
   "metadata": {},
   "source": [
    "The z-score method (often called standardization) transforms the info into distribution with a mean of 0 and a typical deviation of 1. Each standardized value is computed by subtracting the mean of the corresponding feature then dividing by the quality deviation."
   ]
  },
  {
   "cell_type": "code",
   "execution_count": 32,
   "id": "8b77eeb8",
   "metadata": {},
   "outputs": [
    {
     "data": {
      "text/plain": [
       "array([[-1.4331398 , -0.83243239,  0.82507026, ...,  1.38292822,\n",
       "        -0.55134134,  0.41090889],\n",
       "       [-0.47848359,  0.10566353, -0.17196105, ...,  0.75415714,\n",
       "        -0.55134134,  1.49175234],\n",
       "       [-1.75135854, -0.83243239,  0.7701878 , ..., -1.52513802,\n",
       "        -0.55134134, -0.12951283],\n",
       "       ...,\n",
       "       [ 0.37009972,  0.29328271, -0.62016778, ..., -0.85706875,\n",
       "        -0.55134134, -0.12951283],\n",
       "       [ 0.37009972, -0.83243239,  0.34027522, ...,  1.4615246 ,\n",
       "        -0.55134134, -0.12951283],\n",
       "       [-1.64528563, -0.83243239, -0.21769643, ...,  1.42222641,\n",
       "        -0.55134134,  0.30282455]])"
      ]
     },
     "execution_count": 32,
     "metadata": {},
     "output_type": "execute_result"
    }
   ],
   "source": [
    "from sklearn.preprocessing import StandardScaler\n",
    "Scaler2 = StandardScaler()\n",
    "x2=Scaler2.fit_transform (df[['Age','Oldpeak','Cholesterol','HeartDisease','MaxHR','FastingBS','RestingBP']])\n",
    "x2"
   ]
  },
  {
   "cell_type": "code",
   "execution_count": 33,
   "id": "2cdd726e",
   "metadata": {},
   "outputs": [
    {
     "data": {
      "text/html": [
       "<div>\n",
       "<style scoped>\n",
       "    .dataframe tbody tr th:only-of-type {\n",
       "        vertical-align: middle;\n",
       "    }\n",
       "\n",
       "    .dataframe tbody tr th {\n",
       "        vertical-align: top;\n",
       "    }\n",
       "\n",
       "    .dataframe thead tr th {\n",
       "        text-align: left;\n",
       "    }\n",
       "</style>\n",
       "<table border=\"1\" class=\"dataframe\">\n",
       "  <thead>\n",
       "    <tr>\n",
       "      <th></th>\n",
       "      <th>Age</th>\n",
       "      <th>Oldpeak</th>\n",
       "      <th>Cholesterol</th>\n",
       "      <th>HeartDisease</th>\n",
       "      <th>MaxHR</th>\n",
       "      <th>FastingBS</th>\n",
       "      <th>RestingBP</th>\n",
       "    </tr>\n",
       "  </thead>\n",
       "  <tbody>\n",
       "    <tr>\n",
       "      <th>0</th>\n",
       "      <td>-1.433140</td>\n",
       "      <td>-0.832432</td>\n",
       "      <td>0.825070</td>\n",
       "      <td>-1.113115</td>\n",
       "      <td>1.382928</td>\n",
       "      <td>-0.551341</td>\n",
       "      <td>0.410909</td>\n",
       "    </tr>\n",
       "    <tr>\n",
       "      <th>1</th>\n",
       "      <td>-0.478484</td>\n",
       "      <td>0.105664</td>\n",
       "      <td>-0.171961</td>\n",
       "      <td>0.898380</td>\n",
       "      <td>0.754157</td>\n",
       "      <td>-0.551341</td>\n",
       "      <td>1.491752</td>\n",
       "    </tr>\n",
       "    <tr>\n",
       "      <th>2</th>\n",
       "      <td>-1.751359</td>\n",
       "      <td>-0.832432</td>\n",
       "      <td>0.770188</td>\n",
       "      <td>-1.113115</td>\n",
       "      <td>-1.525138</td>\n",
       "      <td>-0.551341</td>\n",
       "      <td>-0.129513</td>\n",
       "    </tr>\n",
       "    <tr>\n",
       "      <th>3</th>\n",
       "      <td>-0.584556</td>\n",
       "      <td>0.574711</td>\n",
       "      <td>0.139040</td>\n",
       "      <td>0.898380</td>\n",
       "      <td>-1.132156</td>\n",
       "      <td>-0.551341</td>\n",
       "      <td>0.302825</td>\n",
       "    </tr>\n",
       "    <tr>\n",
       "      <th>4</th>\n",
       "      <td>0.051881</td>\n",
       "      <td>-0.832432</td>\n",
       "      <td>-0.034755</td>\n",
       "      <td>-1.113115</td>\n",
       "      <td>-0.581981</td>\n",
       "      <td>-0.551341</td>\n",
       "      <td>0.951331</td>\n",
       "    </tr>\n",
       "  </tbody>\n",
       "</table>\n",
       "</div>"
      ],
      "text/plain": [
       "        Age   Oldpeak Cholesterol HeartDisease     MaxHR FastingBS RestingBP\n",
       "0 -1.433140 -0.832432    0.825070    -1.113115  1.382928 -0.551341  0.410909\n",
       "1 -0.478484  0.105664   -0.171961     0.898380  0.754157 -0.551341  1.491752\n",
       "2 -1.751359 -0.832432    0.770188    -1.113115 -1.525138 -0.551341 -0.129513\n",
       "3 -0.584556  0.574711    0.139040     0.898380 -1.132156 -0.551341  0.302825\n",
       "4  0.051881 -0.832432   -0.034755    -1.113115 -0.581981 -0.551341  0.951331"
      ]
     },
     "execution_count": 33,
     "metadata": {},
     "output_type": "execute_result"
    }
   ],
   "source": [
    "normalized2_df = pd.DataFrame(x2 , columns = [['Age','Oldpeak','Cholesterol','HeartDisease','MaxHR','FastingBS','RestingBP']])\n",
    "normalized2_df.head()"
   ]
  },
  {
   "cell_type": "code",
   "execution_count": 34,
   "id": "92293b7f",
   "metadata": {},
   "outputs": [
    {
     "data": {
      "text/plain": [
       "<AxesSubplot:>"
      ]
     },
     "execution_count": 34,
     "metadata": {},
     "output_type": "execute_result"
    },
    {
     "data": {
      "image/png": "[encoded data removed]",
      "text/plain": [
       "<Figure size 432x288 with 1 Axes>"
      ]
     },
     "metadata": {
      "needs_background": "light"
     },
     "output_type": "display_data"
    }
   ],
   "source": [
    "import matplotlib.pyplot as plt\n",
    "normalized2_df.plot(kind = 'bar')"
   ]
  },
  {
   "cell_type": "markdown",
   "id": "1a071c34",
   "metadata": {},
   "source": [
    "#### <font color =red>by : Rania Mustafa "
   ]
  },
  {
   "cell_type": "code",
   "execution_count": null,
   "id": "898ffce1",
   "metadata": {},
   "outputs": [],
   "source": []
  }
 ],
 "metadata": {
  "kernelspec": {
   "display_name": "Python 3 (ipykernel)",
   "language": "python",
   "name": "python3"
  },
  "language_info": {
   "codemirror_mode": {
    "name": "ipython",
    "version": 3
   },
   "file_extension": ".py",
   "mimetype": "text/x-python",
   "name": "python",
   "nbconvert_exporter": "python",
   "pygments_lexer": "ipython3",
   "version": "3.9.7"
  }
 },
 "nbformat": 4,
 "nbformat_minor": 5
}
